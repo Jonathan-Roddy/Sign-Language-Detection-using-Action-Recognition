{
 "cells": [
  {
   "cell_type": "markdown",
   "id": "c1e0185b-e949-4f63-8ec0-14eb19ed5f20",
   "metadata": {},
   "source": [
    "# Tutorial using Mediapipe and OpenCV"
   ]
  },
  {
   "cell_type": "markdown",
   "id": "f2f393bc-23da-470b-8ce5-9ca88c848644",
   "metadata": {},
   "source": [
    "Reference: Nikolas Rennote https://www.youtube.com/watch?v=doDUihpj6ro"
   ]
  },
  {
   "cell_type": "markdown",
   "id": "64607251-9035-4b3c-9756-fdd29cd48db5",
   "metadata": {},
   "source": [
    "## Import and Install Dependencies"
   ]
  },
  {
   "cell_type": "code",
   "execution_count": null,
   "id": "729249b7-1d5a-468a-b899-c835819fe881",
   "metadata": {
    "scrolled": true,
    "tags": []
   },
   "outputs": [],
   "source": [
    "# Install Requirements if not done so\n",
    "!pip install tensorflow==2.8 tensorflow-gpu==2.8 opencv-python mediapipe sklearn matplotlib imutils"
   ]
  },
  {
   "cell_type": "code",
   "execution_count": null,
   "id": "2f89b526-e94c-4beb-b8f0-dd81462a99e2",
   "metadata": {},
   "outputs": [],
   "source": [
    "import cv2\n",
    "import numpy as np\n",
    "import os\n",
    "from matplotlib import pyplot as plt\n",
    "import time\n",
    "import mediapipe as mp\n",
    "import imutils"
   ]
  },
  {
   "cell_type": "markdown",
   "id": "789ba453-d6f2-471b-b9e1-d87609d7af2c",
   "metadata": {},
   "source": [
    "## Keypoints using MP Holistic"
   ]
  },
  {
   "cell_type": "code",
   "execution_count": null,
   "id": "6f5b8e47-cd93-4bb5-96b6-f0c126f1472b",
   "metadata": {},
   "outputs": [],
   "source": [
    "mp_holistic = mp.solutions.holistic # Holistic model\n",
    "mp_drawing = mp.solutions.drawing_utils # Drawing utilities"
   ]
  },
  {
   "cell_type": "code",
   "execution_count": null,
   "id": "84b9d76c-e16a-44b1-b08d-331eeb487755",
   "metadata": {},
   "outputs": [],
   "source": [
    "def mediapipe_detection(image, model):\n",
    "    image = cv2.cvtColor(image, cv2.COLOR_BGR2RGB) # COLOR CONVERSION BGR 2 RGB\n",
    "    image.flags.writeable = False                  # Image is no longer writeable\n",
    "    results = model.process(image)                 # Make prediction\n",
    "    image.flags.writeable = True                   # Image is now writeable \n",
    "    image = cv2.cvtColor(image, cv2.COLOR_RGB2BGR) # COLOR COVERSION RGB 2 BGR\n",
    "    return image, results"
   ]
  },
  {
   "cell_type": "code",
   "execution_count": null,
   "id": "02d1cf8d-8166-433f-a7ce-a05770139905",
   "metadata": {},
   "outputs": [],
   "source": [
    "def draw_styled_landmarks(image, results):    \n",
    "        # 1. Draw face landmarks\n",
    "        mp_drawing.draw_landmarks(image, results.face_landmarks, mp_holistic.FACEMESH_TESSELATION, \n",
    "                                 mp_drawing.DrawingSpec(color=(80,110,10), thickness=1, circle_radius=2),\n",
    "                                 mp_drawing.DrawingSpec(color=(80,256,121), thickness=1, circle_radius=2)\n",
    "                                 )\n",
    "        \n",
    "        # 2. Right hand\n",
    "        mp_drawing.draw_landmarks(image, results.right_hand_landmarks, mp_holistic.HAND_CONNECTIONS, \n",
    "                                 mp_drawing.DrawingSpec(color=(80,22,10), thickness=1, circle_radius=2),\n",
    "                                 mp_drawing.DrawingSpec(color=(89,122,255), thickness=1, circle_radius=2)\n",
    "                                 )\n",
    "\n",
    "        # 3. Left Hand\n",
    "        mp_drawing.draw_landmarks(image, results.left_hand_landmarks, mp_holistic.HAND_CONNECTIONS, \n",
    "                                 mp_drawing.DrawingSpec(color=(29,226,200), thickness=1, circle_radius=2),\n",
    "                                 mp_drawing.DrawingSpec(color=(29,226,200), thickness=1, circle_radius=2)\n",
    "                                 )\n",
    "\n",
    "        # 4. Pose Detections\n",
    "        mp_drawing.draw_landmarks(image, results.pose_landmarks, mp_holistic.POSE_CONNECTIONS, \n",
    "                                 mp_drawing.DrawingSpec(color=(153,255,51), thickness=1, circle_radius=2),\n",
    "                                 mp_drawing.DrawingSpec(color=(153,51,255), thickness=1, circle_radius=2)\n",
    "                                 )"
   ]
  },
  {
   "cell_type": "code",
   "execution_count": null,
   "id": "c123e332-8306-4a8b-bcde-dbb5226d597d",
   "metadata": {
    "scrolled": true,
    "tags": []
   },
   "outputs": [],
   "source": [
    "# IGNORE\n",
    "cap = cv2.VideoCapture(0)\n",
    "\n",
    "# Set mediapipe model, if you want higher or lower, change confidence number\n",
    "with mp_holistic.Holistic(min_detection_confidence=0.5, min_tracking_confidence=0.5) as holistic:\n",
    "    while cap.isOpened():\n",
    "\n",
    "        # Read feed\n",
    "        ret, frame = cap.read()\n",
    "\n",
    "        # Make detections\n",
    "        image, results = mediapipe_detection(frame, holistic)\n",
    "        print(results)\n",
    "        \n",
    "        # Draw landmarks\n",
    "        draw_styled_landmarks(image, results)\n",
    "\n",
    "        # Show to screen\n",
    "        cv2.imshow('OpenCV Feed', image)\n",
    "\n",
    "        # Break gracefully\n",
    "        if cv2.waitKey(10) & 0xFF == ord('q'):\n",
    "            break\n",
    "    cap.release()\n",
    "    cv2.destroyAllWindows()"
   ]
  },
  {
   "cell_type": "code",
   "execution_count": null,
   "id": "6a6aae05-d8bb-4057-bc6a-4c0195665d6d",
   "metadata": {},
   "outputs": [],
   "source": [
    "draw_styled_landmarks(frame, results)"
   ]
  },
  {
   "cell_type": "code",
   "execution_count": null,
   "id": "2195a71f-7980-4d2b-b076-8366cb861143",
   "metadata": {},
   "outputs": [],
   "source": [
    "# IGNORE\n",
    "results"
   ]
  },
  {
   "cell_type": "code",
   "execution_count": null,
   "id": "6ee4cdf0-dcb5-480e-b988-ca5ff20ad32d",
   "metadata": {},
   "outputs": [],
   "source": [
    "plt.imshow(cv2.cvtColor(frame, cv2.COLOR_BGR2RGB))"
   ]
  },
  {
   "cell_type": "code",
   "execution_count": null,
   "id": "13357136-dd9b-413e-b60f-27f10af55f65",
   "metadata": {},
   "outputs": [],
   "source": [
    "# IGNORE\n",
    "cap = cv2.VideoCapture(0)\n",
    "while cap.isOpened():\n",
    "    \n",
    "    # Read Feed\n",
    "    ret, frame = cap.read()\n",
    "    \n",
    "    # Show to Screen\n",
    "    cv2.imshow('OpenCV Feed', frame)\n",
    "    \n",
    "    # Break gracefully\n",
    "    if cv2.waitKey(10) & 0xFF == ord('q'):\n",
    "        break\n",
    "\n",
    "cap.release()\n",
    "cv2.destroyAllWindows()"
   ]
  },
  {
   "cell_type": "markdown",
   "id": "99a4f90b-71b1-4a1c-a713-8b46a26c6861",
   "metadata": {},
   "source": [
    "## Extract Keypoint Values"
   ]
  },
  {
   "cell_type": "raw",
   "id": "7f1f6083-2539-44cf-b69b-831f21aab532",
   "metadata": {},
   "source": [
    "# IGNORE\n",
    "results.pose_landmarks.landmark[0]"
   ]
  },
  {
   "cell_type": "code",
   "execution_count": null,
   "id": "ba5cb5ce-26ed-40e4-a60e-c2386d242e98",
   "metadata": {},
   "outputs": [],
   "source": [
    "# IGNORE\n",
    "pose = []\n",
    "for res in results.pose_landmarks.landmark:\n",
    "    test = np.array([res.x, res.y, res.z, res.visibility])\n",
    "    pose.append(test)"
   ]
  },
  {
   "cell_type": "code",
   "execution_count": null,
   "id": "0853d45f-7909-4fd7-9ca9-b1d6fab35b4b",
   "metadata": {},
   "outputs": [],
   "source": [
    "# IGNORE\n",
    "pose = np.array([[res.x, res.y, res.z, res.visibility] for res in results.pose_landmarks.landmark]).flatten() if results.pose_landmarks else np.zeros(132)\n",
    "face = np.array([[res.x, res.y, res.z] for res in results.face_landmarks.landmark]).flatten() if results.face_landmarks else np.zeros(1404)\n",
    "lh = np.array([[res.x, res.y, res.z] for res in results.left_hand_landmarks.landmark]).flatten() if results.left_hand_landmarks else np.zeros(21*3)\n",
    "rh = np.array([[res.x, res.y, res.z] for res in results.right_hand_landmarks.landmark]).flatten() if results.right_hand_landmarks else np.zeros(21*3)"
   ]
  },
  {
   "cell_type": "code",
   "execution_count": null,
   "id": "60f9bcab-237d-4041-b572-5a6b1fe84dcf",
   "metadata": {},
   "outputs": [],
   "source": [
    "# IGNORE\n",
    "pose"
   ]
  },
  {
   "cell_type": "code",
   "execution_count": null,
   "id": "079a6452-ca50-4042-9e7b-00d24629538f",
   "metadata": {},
   "outputs": [],
   "source": [
    "# IGNORE\n",
    "\n",
    "face = np.array([[res.x, res.y, res.z] for res in results.face_landmarks.landmark]).flatten() \n",
    "    if results.face_landmarks \n",
    "    else np.zeros(1404)"
   ]
  },
  {
   "cell_type": "code",
   "execution_count": null,
   "id": "93b68657-67f2-4e99-995a-4ddea600374d",
   "metadata": {},
   "outputs": [],
   "source": [
    "def extract_keypoints(results):\n",
    "    pose = np.array([[res.x, res.y, res.z, res.visibility] for res in results.pose_landmarks.landmark]).flatten() if results.pose_landmarks else np.zeros(33*4)\n",
    "    face = np.array([[res.x, res.y, res.z] for res in results.face_landmarks.landmark]).flatten() if results.face_landmarks else np.zeros(468*3)\n",
    "    lh = np.array([[res.x, res.y, res.z] for res in results.left_hand_landmarks.landmark]).flatten() if results.left_hand_landmarks else np.zeros(21*3)\n",
    "    rh = np.array([[res.x, res.y, res.z] for res in results.right_hand_landmarks.landmark]).flatten() if results.right_hand_landmarks else np.zeros(21*3)\n",
    "    return np.concatenate([pose, face, lh, rh])"
   ]
  },
  {
   "cell_type": "code",
   "execution_count": null,
   "id": "11c9463f-f44c-4e01-944a-84b0dd3a04cb",
   "metadata": {},
   "outputs": [],
   "source": [
    "# IGNORE\n",
    "result_test = extract_keypoints(results)"
   ]
  },
  {
   "cell_type": "code",
   "execution_count": null,
   "id": "3e100c33-e06e-4cbf-b9a0-b7560d4de5b5",
   "metadata": {},
   "outputs": [],
   "source": [
    "# IGNORE\n",
    "result_test"
   ]
  },
  {
   "cell_type": "code",
   "execution_count": null,
   "id": "3126f6fe-6470-4f3e-8951-b3c96ce09f93",
   "metadata": {},
   "outputs": [],
   "source": [
    "# IGNORE\n",
    "np.save('0', result_test)"
   ]
  },
  {
   "cell_type": "code",
   "execution_count": null,
   "id": "1ef8fbf1-44d2-41bc-94de-adc15b4cec0d",
   "metadata": {},
   "outputs": [],
   "source": [
    "# IGNORE\n",
    "np.load('0.npy')"
   ]
  },
  {
   "cell_type": "markdown",
   "id": "81d5cc9d-d22d-4dce-85f8-2af1b63ea3f6",
   "metadata": {},
   "source": [
    "## Setup Folders for Colelction"
   ]
  },
  {
   "cell_type": "code",
   "execution_count": null,
   "id": "b8693380-fa20-4d30-9466-39904489edc4",
   "metadata": {},
   "outputs": [],
   "source": [
    "# Path for exported data, numpy arrays\n",
    "DATA_PATH = os.path.join('MP_Data') \n",
    "\n",
    "# Actions that we try to detect\n",
    "actions = np.array(['hello', 'thanks', 'iloveyou'])\n",
    "\n",
    "# Thirty videos worth of data\n",
    "no_sequences = 30\n",
    "\n",
    "# Videos are going to be 30 frames in length\n",
    "sequence_length = 30"
   ]
  },
  {
   "cell_type": "code",
   "execution_count": null,
   "id": "d8a00286-deeb-49a1-841f-4ba2b6899d03",
   "metadata": {},
   "outputs": [],
   "source": [
    "# hello\n",
    "## 0\n",
    "## 1\n",
    "## 2\n",
    "## ...\n",
    "## 29\n",
    "# thanks\n",
    "\n",
    "# I love you"
   ]
  },
  {
   "cell_type": "code",
   "execution_count": null,
   "id": "283d7bf9-5f37-4237-a148-fe8365593b79",
   "metadata": {},
   "outputs": [],
   "source": [
    "# IGNORE\n",
    "os.path.abspath(os.getcwd())"
   ]
  },
  {
   "cell_type": "code",
   "execution_count": null,
   "id": "f7cfdbe1-6069-415f-a231-7e3088d5394b",
   "metadata": {},
   "outputs": [],
   "source": [
    "for action in actions: \n",
    "    for sequence in range(no_sequences):\n",
    "        try: \n",
    "            os.makedirs(os.path.join(DATA_PATH, action, str(sequence)))\n",
    "        except:\n",
    "            pass"
   ]
  },
  {
   "cell_type": "markdown",
   "id": "5d20bda4-f99a-406e-8563-13312aea396b",
   "metadata": {
    "tags": []
   },
   "source": [
    "## Collect Keypoint Values for Training and Testing"
   ]
  },
  {
   "cell_type": "code",
   "execution_count": null,
   "id": "c235d403-9096-4f1a-abf0-6d28c19f4482",
   "metadata": {},
   "outputs": [],
   "source": [
    "# IGNORE\n",
    "cap = cv2.VideoCapture(0)\n",
    "# Set mediapipe model \n",
    "with mp_holistic.Holistic(min_detection_confidence=0.5, min_tracking_confidence=0.5) as holistic:\n",
    "    \n",
    "    # NEW LOOP\n",
    "    # Loop through actions : Hello, Thanks , I love you\n",
    "    for action in actions:\n",
    "        # Loop through sequences aka videos : 30 Videos\n",
    "        for sequence in range(no_sequences):\n",
    "            # Loop through video length aka sequence length : £0 Frames\n",
    "            for frame_num in range(sequence_length):\n",
    "\n",
    "                # Read feed\n",
    "                ret, frame = cap.read()\n",
    "\n",
    "                # Make detections\n",
    "                image, results = mediapipe_detection(frame, holistic)\n",
    "                # print(results)\n",
    "\n",
    "                # Draw landmarks\n",
    "                draw_styled_landmarks(image, results)\n",
    "                \n",
    "                # NEW Apply wait logic\n",
    "                if frame_num == 0: \n",
    "                    cv2.putText(image, 'STARTING COLLECTION', (120,200), \n",
    "                               cv2.FONT_HERSHEY_SIMPLEX, 1, (0,255, 0), 4, cv2.LINE_AA)\n",
    "                    cv2.putText(image, 'Collecting frames for {} Video Number {}'.format(action, sequence), (15,12), \n",
    "                               cv2.FONT_HERSHEY_SIMPLEX, 0.5, (0, 0, 255), 1, cv2.LINE_AA)\n",
    "                    # Show to screen\n",
    "                    cv2.imshow('OpenCV Feed', image)\n",
    "                    cv2.waitKey(2000)\n",
    "                else: \n",
    "                    cv2.putText(image, 'Collecting frames for {} Video Number {}'.format(action, sequence), (15,12), \n",
    "                               cv2.FONT_HERSHEY_SIMPLEX, 0.5, (0, 0, 255), 1, cv2.LINE_AA)\n",
    "                    # Show to screen\n",
    "                    cv2.imshow('OpenCV Feed', image)\n",
    "                \n",
    "                # NEW Export keypoints\n",
    "                keypoints = extract_keypoints(results)\n",
    "                npy_path = os.path.join(DATA_PATH, action, str(sequence), str(frame_num))\n",
    "                np.save(npy_path, keypoints)\n",
    "\n",
    "                # Break gracefully\n",
    "                if cv2.waitKey(10) & 0xFF == ord('q'):\n",
    "                    break\n",
    "                    \n",
    "    cap.release()\n",
    "    cv2.destroyAllWindows()"
   ]
  },
  {
   "cell_type": "markdown",
   "id": "f16e428b-c326-4c4f-8fab-e4692f4ccba6",
   "metadata": {},
   "source": [
    "## Preprocess Data and Create Labels and Features"
   ]
  },
  {
   "cell_type": "code",
   "execution_count": null,
   "id": "a6b50959-8b7b-4421-b76d-e0e5890d2ed1",
   "metadata": {},
   "outputs": [],
   "source": [
    "from sklearn.model_selection import train_test_split\n",
    "from tensorflow.keras.utils import to_categorical"
   ]
  },
  {
   "cell_type": "code",
   "execution_count": null,
   "id": "4aeb076e-527b-4ca1-8733-b558c4f8a349",
   "metadata": {},
   "outputs": [],
   "source": [
    "label_map = {label:num for num, label in enumerate(actions)}"
   ]
  },
  {
   "cell_type": "code",
   "execution_count": null,
   "id": "f170d719-bb1d-4fae-9314-eaeb567d4128",
   "metadata": {},
   "outputs": [],
   "source": [
    "label_map"
   ]
  },
  {
   "cell_type": "code",
   "execution_count": null,
   "id": "aa1b48f6-9410-4457-897c-fae542fd0eb8",
   "metadata": {},
   "outputs": [],
   "source": [
    "sequences, labels = [], []\n",
    "for action in actions:\n",
    "    for sequence in range(no_sequences):\n",
    "        window = []\n",
    "        for frame_num in range(sequence_length):\n",
    "            res = np.load(os.path.join(DATA_PATH, action, str(sequence), \"{}.npy\".format(frame_num)))\n",
    "            window.append(res)\n",
    "        sequences.append(window)\n",
    "        labels.append(label_map[action])"
   ]
  },
  {
   "cell_type": "code",
   "execution_count": null,
   "id": "b91bf550-b83e-4ea3-99fa-2aceac8f41eb",
   "metadata": {},
   "outputs": [],
   "source": [
    "np.array(sequences).shape"
   ]
  },
  {
   "cell_type": "code",
   "execution_count": null,
   "id": "8158fbd9-cb15-4590-8ad1-bebb01c452ab",
   "metadata": {},
   "outputs": [],
   "source": [
    "np.array(labels).shape"
   ]
  },
  {
   "cell_type": "code",
   "execution_count": null,
   "id": "45d76c07-3abe-46d4-9664-f1aed881f298",
   "metadata": {},
   "outputs": [],
   "source": [
    "X = np.array(sequences)"
   ]
  },
  {
   "cell_type": "code",
   "execution_count": null,
   "id": "478a7472-c71a-4cd8-b8b6-2e547b8c931f",
   "metadata": {},
   "outputs": [],
   "source": [
    "X.shape"
   ]
  },
  {
   "cell_type": "code",
   "execution_count": null,
   "id": "80ca2c5a-c9ae-4f0a-9784-a8ccc4d135f6",
   "metadata": {},
   "outputs": [],
   "source": [
    "y = to_categorical(labels).astype(int)"
   ]
  },
  {
   "cell_type": "code",
   "execution_count": null,
   "id": "37b28367-6e73-4ecd-91bb-4e110c451c66",
   "metadata": {},
   "outputs": [],
   "source": [
    "y"
   ]
  },
  {
   "cell_type": "code",
   "execution_count": null,
   "id": "14be858c-a796-440b-838f-0b8a2f892149",
   "metadata": {},
   "outputs": [],
   "source": [
    "X_train, X_test, y_train, y_test = train_test_split(X, y, test_size=0.05)"
   ]
  },
  {
   "cell_type": "code",
   "execution_count": null,
   "id": "7e316a9a-a6b1-418a-99ca-84b33b9cbb96",
   "metadata": {},
   "outputs": [],
   "source": [
    "y_test.shape"
   ]
  },
  {
   "cell_type": "code",
   "execution_count": null,
   "id": "c151a7c3-770d-407a-9c48-3adc324db413",
   "metadata": {},
   "outputs": [],
   "source": [
    "X_train.shape"
   ]
  },
  {
   "cell_type": "markdown",
   "id": "df14dd06-3b35-4bc2-bf32-cfb0f5265ac6",
   "metadata": {},
   "source": [
    "## Build and Train LSTM Neural Network"
   ]
  },
  {
   "cell_type": "code",
   "execution_count": null,
   "id": "65ff3004-744d-495e-85a9-229f0260666c",
   "metadata": {},
   "outputs": [],
   "source": [
    "from tensorflow.keras.models import Sequential\n",
    "from tensorflow.keras.layers import LSTM, Dense\n",
    "from tensorflow.keras.callbacks import TensorBoard"
   ]
  },
  {
   "cell_type": "code",
   "execution_count": null,
   "id": "ff7fd311-d4d9-4f47-b5a0-cb6322e70567",
   "metadata": {},
   "outputs": [],
   "source": [
    "log_dir = os.path.join('Logs')\n",
    "tb_callback = TensorBoard(log_dir=log_dir)"
   ]
  },
  {
   "cell_type": "code",
   "execution_count": null,
   "id": "c3296a23-4e03-42bc-8e2e-c5cc04b4c9ee",
   "metadata": {},
   "outputs": [],
   "source": [
    "# Neural Networks"
   ]
  },
  {
   "cell_type": "code",
   "execution_count": null,
   "id": "9672910b-da79-494f-9345-e8ca8aef57cb",
   "metadata": {},
   "outputs": [],
   "source": [
    "model = Sequential()\n",
    "model.add(LSTM(64, return_sequences=True, activation='relu', input_shape=(30,1662)))\n",
    "model.add(LSTM(128, return_sequences=True, activation='relu'))\n",
    "model.add(LSTM(64, return_sequences=False, activation='relu'))\n",
    "model.add(Dense(64, activation='relu'))\n",
    "model.add(Dense(32, activation='relu'))\n",
    "model.add(Dense(actions.shape[0], activation='softmax'))"
   ]
  },
  {
   "cell_type": "code",
   "execution_count": null,
   "id": "79d11eef-62ba-4b5e-b38a-8b903116faa1",
   "metadata": {
    "tags": []
   },
   "outputs": [],
   "source": [
    "res = [.7, 0.2, 0.1]"
   ]
  },
  {
   "cell_type": "code",
   "execution_count": null,
   "id": "e6ca0a41-2a41-4a20-a4e0-12ffe3a971bb",
   "metadata": {},
   "outputs": [],
   "source": [
    "actions[np.argmax(res)]"
   ]
  },
  {
   "cell_type": "code",
   "execution_count": null,
   "id": "5e146451-6f28-4f46-b63c-fec43ca146fd",
   "metadata": {},
   "outputs": [],
   "source": [
    "model.compile(optimizer='Adam', loss='categorical_crossentropy', metrics=['categorical_accuracy'])"
   ]
  },
  {
   "cell_type": "code",
   "execution_count": null,
   "id": "40f0f650-433e-480a-95d9-8061ddefee43",
   "metadata": {},
   "outputs": [],
   "source": [
    "# epochs = number of Training"
   ]
  },
  {
   "cell_type": "code",
   "execution_count": null,
   "id": "15a10a69-8548-4ae2-a951-c10428888fce",
   "metadata": {},
   "outputs": [],
   "source": [
    "model.fit(X_train, y_train, epochs=2000, callbacks=[tb_callback])"
   ]
  },
  {
   "cell_type": "code",
   "execution_count": null,
   "id": "4bd86027-f19b-4a33-abe7-17f0e6bd1242",
   "metadata": {},
   "outputs": [],
   "source": [
    "model.summary()"
   ]
  },
  {
   "cell_type": "code",
   "execution_count": null,
   "id": "f8fa7ee7-c4a6-48a4-8e3a-dcd739ae74a7",
   "metadata": {},
   "outputs": [],
   "source": [
    "#CNN would need a lot more data"
   ]
  },
  {
   "cell_type": "markdown",
   "id": "7e44dcb9-27f9-4484-9260-c76cfbda5715",
   "metadata": {},
   "source": [
    "## Make Predictions"
   ]
  },
  {
   "cell_type": "code",
   "execution_count": null,
   "id": "e9c1ee72-05c9-4e31-b664-4745e6c1128f",
   "metadata": {},
   "outputs": [],
   "source": [
    "res = model.predict(X_test)"
   ]
  },
  {
   "cell_type": "code",
   "execution_count": null,
   "id": "53a093ec-bec7-4d0d-b514-e75c7bf4f96b",
   "metadata": {},
   "outputs": [],
   "source": [
    "actions[np.argmax(res[4])]"
   ]
  },
  {
   "cell_type": "code",
   "execution_count": null,
   "id": "d1366a74-8669-4e0f-8c1c-3ba1999e18a6",
   "metadata": {},
   "outputs": [],
   "source": [
    "actions[np.argmax(y_test[4])]"
   ]
  },
  {
   "cell_type": "markdown",
   "id": "bab41d4a-520a-409a-b9a6-43212e64b286",
   "metadata": {},
   "source": [
    "## Save Weight"
   ]
  },
  {
   "cell_type": "code",
   "execution_count": null,
   "id": "b21c2720-2d07-4468-aeb4-661dfb414c59",
   "metadata": {},
   "outputs": [],
   "source": [
    "model.save('action.h5')"
   ]
  },
  {
   "cell_type": "code",
   "execution_count": null,
   "id": "821575fa-0b24-48d6-b32d-c96cb550ac54",
   "metadata": {},
   "outputs": [],
   "source": [
    "# Delete Model\n",
    "del model\n",
    "\n",
    "# If deleted \n",
    "# Run Model Rebuild\n",
    "# Compile Model \n",
    "# Then Below Load"
   ]
  },
  {
   "cell_type": "code",
   "execution_count": null,
   "id": "ddccfe9d-657f-442d-aaf9-ea52bf1b9394",
   "metadata": {},
   "outputs": [],
   "source": [
    "model.load_weights('action.h5')"
   ]
  },
  {
   "cell_type": "markdown",
   "id": "de67377e-eab5-4989-9448-0c386fd93ef4",
   "metadata": {},
   "source": [
    "## Evaluation using Confusion Matrix and Accuracy"
   ]
  },
  {
   "cell_type": "code",
   "execution_count": null,
   "id": "85562b14-8d87-41d7-a711-9cae75bd5f86",
   "metadata": {},
   "outputs": [],
   "source": [
    "# True positive and False Positive"
   ]
  },
  {
   "cell_type": "code",
   "execution_count": null,
   "id": "3aa49986-e69f-4939-b883-355bb8f2a7ec",
   "metadata": {},
   "outputs": [],
   "source": [
    "from sklearn.metrics import multilabel_confusion_matrix, accuracy_score"
   ]
  },
  {
   "cell_type": "code",
   "execution_count": null,
   "id": "cc386d2b-a92d-4f29-a482-d889745d021b",
   "metadata": {},
   "outputs": [],
   "source": [
    "yhat = model.predict(X_test)\n"
   ]
  },
  {
   "cell_type": "code",
   "execution_count": null,
   "id": "298b8377-00f6-4548-9f56-d9cb3f0dcdc5",
   "metadata": {},
   "outputs": [],
   "source": [
    "ytrue = np.argmax(y_test, axis=1).tolist()\n",
    "yhat = np.argmax(yhat, axis=1).tolist()"
   ]
  },
  {
   "cell_type": "code",
   "execution_count": null,
   "id": "573aec99-c7ac-44d3-ae75-56cce41c6a6f",
   "metadata": {},
   "outputs": [],
   "source": [
    "# IGNORE\n",
    "multilabel_confusion_matrix??\n",
    "\n",
    "# [True Positive][False Positive]\n",
    "# [False Negative][True Negative]"
   ]
  },
  {
   "cell_type": "code",
   "execution_count": null,
   "id": "b8c72fe2-51b9-446a-82ad-f483507f81b8",
   "metadata": {},
   "outputs": [],
   "source": [
    "multilabel_confusion_matrix(ytrue, yhat)"
   ]
  },
  {
   "cell_type": "code",
   "execution_count": null,
   "id": "3c2ee935-3522-4a1c-9218-6dc4853a62bb",
   "metadata": {},
   "outputs": [],
   "source": [
    "accuracy_score(ytrue, yhat)"
   ]
  },
  {
   "cell_type": "markdown",
   "id": "0d45c69f-1317-4fdb-aeae-25967b94c65d",
   "metadata": {},
   "source": [
    "from scipy import stats## Test in Real Time"
   ]
  },
  {
   "cell_type": "code",
   "execution_count": null,
   "id": "8897132c-d3c9-45aa-bbe2-0f12bb28bb6f",
   "metadata": {},
   "outputs": [],
   "source": [
    "from scipy import stats"
   ]
  },
  {
   "cell_type": "code",
   "execution_count": null,
   "id": "4276ed6d-7712-4178-8e25-4646ba7ffa73",
   "metadata": {},
   "outputs": [],
   "source": [
    "colors = [(245,117,16), (117,245,16), (16,117,245)]\n",
    "def prob_viz(res, actions, input_frame, colors):\n",
    "    output_frame = input_frame.copy()\n",
    "    for num, prob in enumerate(res):\n",
    "        cv2.rectangle(output_frame, (0,60+num*40), (int(prob*100), 90+num*40), colors[num], -1)\n",
    "        cv2.putText(output_frame, actions[num], (0, 85+num*40), cv2.FONT_HERSHEY_SIMPLEX, 1, (255,255,255), 2, cv2.LINE_AA)\n",
    "        \n",
    "    return output_frame"
   ]
  },
  {
   "cell_type": "code",
   "execution_count": null,
   "id": "6ece1d00-d6c8-4040-a677-beae9ae1e63f",
   "metadata": {},
   "outputs": [],
   "source": [
    "# IGNORE\n",
    "plt.figure(figsize=(18,18))\n",
    "plt.imshow(prob_viz(res, actions, image, colors))"
   ]
  },
  {
   "cell_type": "code",
   "execution_count": null,
   "id": "b290b9d3-2f77-4f06-9ed0-bb0aa5567055",
   "metadata": {},
   "outputs": [],
   "source": [
    "# IGNORE\n",
    "sequence.reverse()"
   ]
  },
  {
   "cell_type": "code",
   "execution_count": null,
   "id": "f31275a8-cbbe-4538-9d0f-89fe7b611c21",
   "metadata": {},
   "outputs": [],
   "source": [
    "# IGNORE\n",
    "len(sequence)"
   ]
  },
  {
   "cell_type": "code",
   "execution_count": null,
   "id": "9ac144c5-17b9-412f-b879-8813bbf8177c",
   "metadata": {},
   "outputs": [],
   "source": [
    "# IGNORE\n",
    "sequence.append('def')"
   ]
  },
  {
   "cell_type": "code",
   "execution_count": null,
   "id": "645dd5c0-fc1f-4368-a407-5b9fb5e544bb",
   "metadata": {},
   "outputs": [],
   "source": [
    "# IGNORE\n",
    "sequence.reverse()"
   ]
  },
  {
   "cell_type": "code",
   "execution_count": null,
   "id": "8996e72b-b4b3-45dc-8e7d-58dc8037f8c0",
   "metadata": {},
   "outputs": [],
   "source": [
    "# IGNORE\n",
    "sequence[-30:]"
   ]
  },
  {
   "cell_type": "code",
   "execution_count": null,
   "id": "e182c0b5-59a8-4b53-80c4-a6d49d17ad55",
   "metadata": {},
   "outputs": [],
   "source": [
    "# 1. New detection variables\n",
    "sequence = []\n",
    "sentence = []\n",
    "predictions = []\n",
    "threshold = 0.5\n",
    "\n",
    "cap = cv2.VideoCapture(0)\n",
    "# Set mediapipe model \n",
    "with mp_holistic.Holistic(min_detection_confidence=0.5, min_tracking_confidence=0.5) as holistic:\n",
    "    while cap.isOpened():\n",
    "\n",
    "        # Read feed\n",
    "        ret, frame = cap.read()\n",
    "        \n",
    "        # Resize Feed to be bigger\n",
    "        frame = imutils.resize(frame, width=1280)\n",
    "\n",
    "        # Make detections\n",
    "        image, results = mediapipe_detection(frame, holistic)\n",
    "        print(results)\n",
    "        \n",
    "        # Draw landmarks\n",
    "        draw_styled_landmarks(image, results)\n",
    "        \n",
    "        # 2. Prediction logic\n",
    "        keypoints = extract_keypoints(results)\n",
    "        sequence.append(keypoints)\n",
    "        sequence = sequence[-30:]\n",
    "        \n",
    "        if len(sequence) == 30:\n",
    "            res = model.predict(np.expand_dims(sequence, axis=0))[0]\n",
    "            print(actions[np.argmax(res)])\n",
    "            predictions.append(np.argmax(res))\n",
    "            \n",
    "            \n",
    "        #3. Viz logic\n",
    "            if np.unique(predictions[-10:])[0]==np.argmax(res): \n",
    "                if res[np.argmax(res)] > threshold: \n",
    "                    \n",
    "                    if len(sentence) > 0: \n",
    "                        if actions[np.argmax(res)] != sentence[-1]:\n",
    "                            sentence.append(actions[np.argmax(res)])\n",
    "                    else:\n",
    "                        sentence.append(actions[np.argmax(res)])\n",
    "\n",
    "            if len(sentence) > 5: \n",
    "                sentence = sentence[-5:]\n",
    "\n",
    "            # Viz probabilities\n",
    "            image = prob_viz(res, actions, image, colors)\n",
    "            \n",
    "        cv2.rectangle(image, (0,0), (640, 40), (245, 117, 16), -1)\n",
    "        cv2.putText(image, ' '.join(sentence), (3,30), \n",
    "                       cv2.FONT_HERSHEY_SIMPLEX, 1, (255, 255, 255), 2, cv2.LINE_AA)\n",
    "        \n",
    "        # Show to screen\n",
    "        cv2.imshow('OpenCV Feed', image)\n",
    "\n",
    "        # Break gracefully\n",
    "        if cv2.waitKey(10) & 0xFF == ord('q'):\n",
    "            break\n",
    "    cap.release()\n",
    "    cv2.destroyAllWindows()"
   ]
  },
  {
   "cell_type": "code",
   "execution_count": null,
   "id": "ec228d40-c9e5-4478-b6ec-4e935abe48cc",
   "metadata": {},
   "outputs": [],
   "source": [
    "# IGNORE\n",
    "# Call If webcame is still Focused\n",
    "cap.release()\n",
    "cv2.destroyAllWindows()"
   ]
  },
  {
   "cell_type": "code",
   "execution_count": null,
   "id": "d22c8427-257f-40ed-bd99-b5b9fd6d177e",
   "metadata": {},
   "outputs": [],
   "source": [
    "# IGNORE\n",
    "res[np.argmax(res)] > threshold"
   ]
  },
  {
   "cell_type": "code",
   "execution_count": null,
   "id": "e935656d-6fdc-4afa-800f-1afd91e11cd8",
   "metadata": {},
   "outputs": [],
   "source": [
    "# IGNORE\n",
    "(num_sequences,30,1662)"
   ]
  },
  {
   "cell_type": "code",
   "execution_count": null,
   "id": "355b19fc-9310-4c89-a23d-b8c086acafd5",
   "metadata": {},
   "outputs": [],
   "source": [
    "# IGNORE\n",
    "np.expand_dims(X_test[0], axis=0)"
   ]
  },
  {
   "cell_type": "code",
   "execution_count": null,
   "id": "c546663d-5c31-4d8a-a0ca-c5434e9b7f04",
   "metadata": {},
   "outputs": [],
   "source": [
    "# IGNORE\n",
    "X_test[0].shape"
   ]
  },
  {
   "cell_type": "code",
   "execution_count": null,
   "id": "c78ecfd4-52fd-49f0-8493-eac72e3aea52",
   "metadata": {},
   "outputs": [],
   "source": [
    "# IGNORE\n",
    "model.predict(np.expand_dims(X_test[0], axis=0))"
   ]
  }
 ],
 "metadata": {
  "kernelspec": {
   "display_name": "Python 3 (ipykernel)",
   "language": "python",
   "name": "python3"
  },
  "language_info": {
   "codemirror_mode": {
    "name": "ipython",
    "version": 3
   },
   "file_extension": ".py",
   "mimetype": "text/x-python",
   "name": "python",
   "nbconvert_exporter": "python",
   "pygments_lexer": "ipython3",
   "version": "3.9.4"
  }
 },
 "nbformat": 4,
 "nbformat_minor": 5
}
